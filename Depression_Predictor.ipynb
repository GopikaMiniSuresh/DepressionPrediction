{
 "cells": [
  {
   "cell_type": "code",
   "execution_count": 7,
   "id": "5001713c",
   "metadata": {},
   "outputs": [],
   "source": [
    "import pandas as pd\n",
    "import re\n",
    "import nltk\n",
    "from nltk.tokenize import word_tokenize\n",
    "#nltk.download(\"stopwords\")\n",
    "from nltk.corpus import stopwords\n",
    "from sklearn.tree import DecisionTreeClassifier\n",
    "from sklearn.model_selection import train_test_split\n",
    "from sklearn.metrics import classification_report, confusion_matrix\n",
    "from sklearn.model_selection import cross_val_score\n",
    "from sklearn.feature_extraction.text import CountVectorizer\n",
    "df = pd.read_csv(\"Mental-Health-Twitter.csv\")\n"
   ]
  },
  {
   "cell_type": "code",
   "execution_count": 8,
   "id": "cd6e43dd",
   "metadata": {},
   "outputs": [],
   "source": [
    "tweets = df.post_text\n",
    "stop_words = set(stopwords.words('english'))\n",
    "sentences = []\n",
    "#Lot to do here Lemma and all\n",
    "for sentence in tweets:\n",
    "    word_tokens = word_tokenize(sentence)\n",
    "    words = [w for w in word_tokens if not w in stop_words]\n",
    "    sent = \" \".join(words)\n",
    "    sentences.append(sent)\n",
    "    \n",
    "\n",
    "count_vectorizer=CountVectorizer(max_features=1000,stop_words=\"english\")\n",
    "train_matrix = count_vectorizer.fit_transform(sentences).toarray()"
   ]
  },
  {
   "cell_type": "code",
   "execution_count": 9,
   "id": "d874a8e9",
   "metadata": {},
   "outputs": [],
   "source": [
    "X = train_matrix\n",
    "Y = df['label'].values\n",
    "\n",
    "#Splitting dataset into training and testing at the ratio of 80:20\n",
    "X_train, X_test, Y_train, Y_test = train_test_split(X, Y, test_size=0.2, random_state=35)"
   ]
  },
  {
   "cell_type": "code",
   "execution_count": 10,
   "id": "28559aa9",
   "metadata": {},
   "outputs": [
    {
     "data": {
      "text/plain": [
       "DecisionTreeClassifier()"
      ]
     },
     "execution_count": 10,
     "metadata": {},
     "output_type": "execute_result"
    }
   ],
   "source": [
    "dtc = DecisionTreeClassifier()\n",
    "dtc.fit(X_train, Y_train)"
   ]
  },
  {
   "cell_type": "code",
   "execution_count": 6,
   "id": "7118ce4e",
   "metadata": {},
   "outputs": [
    {
     "name": "stdout",
     "output_type": "stream",
     "text": [
      "---Confusion matrix of Decision Tree Classifier---\n",
      "[[1607  402]\n",
      " [ 365 1626]]\n",
      "---Classification Report of Decsion Tree Classifier---\n",
      "              precision    recall  f1-score   support\n",
      "\n",
      "           0       0.81      0.80      0.81      2009\n",
      "           1       0.80      0.82      0.81      1991\n",
      "\n",
      "    accuracy                           0.81      4000\n",
      "   macro avg       0.81      0.81      0.81      4000\n",
      "weighted avg       0.81      0.81      0.81      4000\n",
      "\n"
     ]
    }
   ],
   "source": [
    "Y_preds_dtc = dtc.predict(X_test) #Testing the model\n",
    "\n",
    "print(\"---Confusion matrix of Decision Tree Classifier---\")\n",
    "print(confusion_matrix(Y_test, Y_preds_dtc))\n",
    "print(\"---Classification Report of Decsion Tree Classifier---\")\n",
    "print(classification_report(Y_test, Y_preds_dtc))"
   ]
  },
  {
   "cell_type": "code",
   "execution_count": null,
   "id": "640c8291",
   "metadata": {},
   "outputs": [],
   "source": []
  }
 ],
 "metadata": {
  "kernelspec": {
   "display_name": "Python 3",
   "language": "python",
   "name": "python3"
  },
  "language_info": {
   "codemirror_mode": {
    "name": "ipython",
    "version": 3
   },
   "file_extension": ".py",
   "mimetype": "text/x-python",
   "name": "python",
   "nbconvert_exporter": "python",
   "pygments_lexer": "ipython3",
   "version": "3.8.8"
  }
 },
 "nbformat": 4,
 "nbformat_minor": 5
}
